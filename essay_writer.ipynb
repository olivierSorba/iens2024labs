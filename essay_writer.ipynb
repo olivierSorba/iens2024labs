{
 "cells": [
  {
   "cell_type": "markdown",
   "id": "54292c31",
   "metadata": {},
   "source": [
    "<a target=\"_blank\" href=\"https://colab.research.google.com/github/olivierSorba/iens2024labs/blob/main/essay_writer.ipynb\">\n",
    "  <img src=\"https://colab.research.google.com/assets/colab-badge.svg\" alt=\"Open In Colab\"/>\n",
    "</a>"
   ]
  },
  {
   "cell_type": "markdown",
   "id": "911b3b37-3b29-4833-94f2-bfe47af00c83",
   "metadata": {},
   "source": [
    "# Essay Writer \n",
    "- (adapted from <https://www.deeplearning.ai/short-courses/ai-agents-in-langgraph/> and <https://github.com/langchain-ai/langgraphjs/tree/main/examples>)"
   ]
  },
  {
   "cell_type": "markdown",
   "id": "a010d9d2",
   "metadata": {},
   "source": [
    "## setup"
   ]
  },
  {
   "cell_type": "markdown",
   "id": "e2ba0003",
   "metadata": {},
   "source": [
    "- run this if working from Google Colab"
   ]
  },
  {
   "cell_type": "code",
   "execution_count": null,
   "id": "543cad55",
   "metadata": {},
   "outputs": [],
   "source": [
    "# ! pip install -U cryptography gradio python-dotenv tavily-python  langchain==0.3.0\t langchain-community==0.3.0\t langchain-core==0.3.0\t langgraph>=0.2.20\t langchain-mistralai==0.2.0\t langchain-openai==0.2.0\t langgraph-checkpoint-sqlite"
   ]
  },
  {
   "cell_type": "markdown",
   "id": "1ffb6e97",
   "metadata": {},
   "source": [
    "- get our credentials\n",
    "- uncomment next cell, run once, fill password, run again"
   ]
  },
  {
   "cell_type": "code",
   "execution_count": null,
   "id": "67db870a",
   "metadata": {},
   "outputs": [],
   "source": [
    "# %load ./credentials_cell.py\n",
    "import os\n",
    "import base64\n",
    "from cryptography.fernet import Fernet\n",
    "from io import StringIO\n",
    "import base64, hashlib\n",
    "data = \"gAAAAABnNMzMiY09zC7QtY2VTLLH1w9OfEE1Aqfo-p-M9233YGr0p54f29c21JXAHyf40tZIM5k6j3iWucq2ScoMRXqBlYrTI9dGAkG1OkBkMewSrutqBdCzMxmYoluVGNMd5UiVtTiYMbIRUJ0ctRQTkJDtEHZ56GiMyQvV0HuGpi8imaNSkXI3haVjI3YDMpJDK6b9XkMPoOa51m6bMq4qrZWZ5ICkOvR_3nAS26_oLSA3NkSM2vdr_YBO6LF2oFsrXeU_WJKeFwPof4RQH-UlB_zgoZH4R9NrrM8Zg-DzCpHiE8ZHCJngDllYqaXVqA0x2_8rCWMvgzJktLhuGtlDvvalpaKntEu5B7XH01M6skx34j61OQlyuzuqMc0Bf_PNDT_ZJkbfDks6iByaXxL9jaiScQX_IA_O7733HAGU0QRe7haRBo3CISN7BoLyMrYoZfFwiurzTH-FYh1cHI7W1JhO1S8ULydJ9UjSaARGHZVzsEA325LfISLzGfvkzHdDhI2pAHt3ZZigDeND8zew3jvGCZevW6riAb9KNvlPy3-WxuWbdVoxaCq23jFfNSDF2YCWXasyEnnYAIfYOnRhYSodp7mJ1CrEJ_UgoI5iCjM2-GulADFlvfhdqgnYe68l1WHOaD3iGweXX4ttlr_lXRlATu2iDUrfr6-xdCuTVNT7ncLV4TH_hArd5qL-Y6tUgUqzlVh1Y0Y_KsbMmGu6l2Jj-6fzwWyL0Xe2_bQMv2rgdkc4UzlwgHI9ccFJJN--2vIrS9iSVKWyJq_kDLvXWcoLimok0oR4wN5ttW3RdPbgmSYsb62YVSyg5BURx92BZvRbJDXZHKO_Dmcnia73vQuSV3vYh2Hv6933VcEihL6xZ6tBAe9IxG8v2vxbpNbuBmoQHaQNBCnQwpTpj_K90-UrnRTsp8lpwArHaNYTtT0CgMs4oGxSeKpOA56hu4LPOeenA0eQPCtjbF_Xz7Ww8YXR-Bg1rkZ8zgtxFUBfTt8FaB_5nrHWX0LMlu71Z6R4oBgTHy5SqFUQ_KUWVRhDrHR_-fO7PJ9EDuuuMCTV056fJ6n4jLX-vbHc830s_vAANOBtBmnLQAjVQaRaseOR5bnrL2-hpYU2fv63bYpB97FmJzStLPSYrwa_8D62uFvvFz52yT6OpyTwOhFaErktQQSrpK-8xnzZFRjvUWo38XICs4fRWmNOeMAaPgaL9VB2PFrHGS_Uy337MkEmtjAjW-APyXkRmCwxcejFFnoouIX2ZzGfsYaJpCXRU3GI7R8lKUg2Ys9v3i95l5w7nnzG6ydmaJKWi7MW0-BkVCCS2myoXj7ytxHnXHUhED1Yqpm8XdLff0D4wfJ7H6lCcsyzsD4h5PNPy0Pq22ZSeTx8oup3P-1ZLab_pM7Bu2E1gnNc2EzO7lc9IsZOBRIRyoQvqma28jbLBZ39Qw0ETbZmuuaBzRZIOR5xFXuKDLOfJnU1DplzkqWLSduk70SlmWZjQUYF41MLwVE2o3uooptIlFTzWm4k1hvsFtHotGHPFwT6qomYL88a251oE1FzEALmjxD4L6V81D6vbYI7krdQEKFkeJONBGc3a6wtNGzrGVzbykf5PFJP80ncIyUTRpqaz0DhrOzLLr2SHy0Kz9fuTFHhxknmc1HCBr4pKLvRcxROaMtxU0C5EzbapCUuQTRmQ8aMdoRj-A3j_vAyk5m0WTw6YuPSYbG2GOvCtlxhIBgK16_o-6dToPlZ_VOv3RuqnQ8xhZdHBg==\"\n",
    "password= \".........\"        \n",
    "    \n",
    "def load_with_password(data:str, password:str)->bool:\n",
    "    key = hashlib.md5(password.encode()).hexdigest()\n",
    "    key = base64.urlsafe_b64encode(key.encode()).decode()\n",
    "    stream=StringIO(Fernet(key).decrypt(data).decode())\n",
    "    for k,v in [ l.split(\"=\",1) for l in stream.read().splitlines() if '=' in l]:\n",
    "        os.environ[k]=v\n",
    "        \n",
    "        \n",
    "load_with_password(data, password=password)"
   ]
  },
  {
   "cell_type": "markdown",
   "id": "ac66e4e4",
   "metadata": {},
   "source": [
    "- import relevant libraries"
   ]
  },
  {
   "cell_type": "code",
   "execution_count": 3,
   "id": "d0168aee-bce9-4d60-b827-f86a88187e31",
   "metadata": {
    "height": 147
   },
   "outputs": [],
   "source": [
    "import operator\n",
    "from langchain_core.messages import AnyMessage, SystemMessage, HumanMessage, AIMessage, ChatMessage\n",
    "from langchain_openai import ChatOpenAI\n",
    "from langgraph.checkpoint.sqlite import SqliteSaver\n",
    "from langgraph.graph import StateGraph, END\n",
    "from pydantic import BaseModel\n",
    "from tavily import TavilyClient\n",
    "from typing import TypedDict, Annotated, List\n"
   ]
  },
  {
   "cell_type": "markdown",
   "id": "9ed1b6d5",
   "metadata": {},
   "source": [
    "## Building the Graph"
   ]
  },
  {
   "cell_type": "markdown",
   "id": "b86dc1ed",
   "metadata": {},
   "source": [
    "### The state that will be passed from node to node"
   ]
  },
  {
   "cell_type": "code",
   "execution_count": 4,
   "id": "2589c5b6-6cc2-4594-9a17-dccdcf676054",
   "metadata": {
    "height": 149
   },
   "outputs": [],
   "source": [
    "class AgentState(TypedDict):\n",
    "    task: str\n",
    "    plan: str\n",
    "    draft: str\n",
    "    critique: str\n",
    "    content: List[str]\n",
    "    revision_number: int\n",
    "    max_revisions: int"
   ]
  },
  {
   "cell_type": "markdown",
   "id": "1e7ad30c",
   "metadata": {},
   "source": [
    "### Building the nodes"
   ]
  },
  {
   "cell_type": "markdown",
   "id": "9fcf77db",
   "metadata": {},
   "source": [
    "#### Choose a LLM"
   ]
  },
  {
   "cell_type": "code",
   "execution_count": 5,
   "id": "a2ba84ec-c172-4de7-ac55-e3158a531b23",
   "metadata": {
    "height": 47
   },
   "outputs": [],
   "source": [
    "model = ChatOpenAI(model=\"gpt-3.5-turbo\", temperature=0)"
   ]
  },
  {
   "cell_type": "markdown",
   "id": "de4ee9a3",
   "metadata": {},
   "source": [
    "#### Sytem prompt for the nodes \n",
    "- i.e. personnalities that will be passed to the LLM"
   ]
  },
  {
   "cell_type": "code",
   "execution_count": 6,
   "id": "876d5092-b8ef-4e38-b4d7-0e80c609bf7a",
   "metadata": {
    "height": 79
   },
   "outputs": [],
   "source": [
    "PLAN_PROMPT = \"\"\"You are an expert writer tasked with writing a high level outline of an essay. \\\n",
    "Write such an outline for the user provided topic. Give an outline of the essay along with any relevant notes \\\n",
    "or instructions for the sections.\"\"\""
   ]
  },
  {
   "cell_type": "code",
   "execution_count": 7,
   "id": "10084a02-2928-4945-9f7c-ad3f5b33caf7",
   "metadata": {
    "height": 164
   },
   "outputs": [],
   "source": [
    "WRITER_PROMPT = \"\"\"You are an essay assistant tasked with writing excellent 5-paragraph essays.\\\n",
    "Generate the best essay possible for the user's request and the initial outline. \\\n",
    "If the user provides critique, respond with a revised version of your previous attempts. \\\n",
    "Utilize all the information below as needed: \n",
    "\n",
    "------\n",
    "\n",
    "{content}\"\"\""
   ]
  },
  {
   "cell_type": "code",
   "execution_count": 8,
   "id": "714d1205-f8fc-4912-b148-2a45da99219c",
   "metadata": {
    "height": 79
   },
   "outputs": [],
   "source": [
    "REFLECTION_PROMPT = \"\"\"You are a teacher grading an essay submission. \\\n",
    "Generate critique and recommendations for the user's submission. \\\n",
    "Provide detailed recommendations, including requests for length, depth, style, etc.\"\"\""
   ]
  },
  {
   "cell_type": "code",
   "execution_count": 9,
   "id": "83588e70-254f-4f83-a510-c8ae81e729b0",
   "metadata": {
    "height": 96
   },
   "outputs": [],
   "source": [
    "RESEARCH_PLAN_PROMPT = \"\"\"You are a researcher charged with providing information that can \\\n",
    "be used when writing the following essay. Generate a list of search queries that will gather \\\n",
    "any relevant information. Only generate 3 queries max.\"\"\"\n"
   ]
  },
  {
   "cell_type": "code",
   "execution_count": 10,
   "id": "6cb3ef4c-58b3-401b-b104-0d51e553d982",
   "metadata": {
    "height": 96
   },
   "outputs": [],
   "source": [
    "RESEARCH_CRITIQUE_PROMPT = \"\"\"You are a researcher charged with providing information that can \\\n",
    "be used when making any requested revisions (as outlined below). \\\n",
    "Generate a list of search queries that will gather any relevant information. Only generate 3 queries max.\"\"\"\n"
   ]
  },
  {
   "cell_type": "markdown",
   "id": "123212ba",
   "metadata": {},
   "source": [
    "#### Web utilities"
   ]
  },
  {
   "cell_type": "markdown",
   "id": "318803a0",
   "metadata": {},
   "source": [
    "- first an object representing the result of a web search"
   ]
  },
  {
   "cell_type": "code",
   "execution_count": null,
   "id": "dc3293b7-a50c-43c8-a022-8975e1e444b8",
   "metadata": {
    "height": 81
   },
   "outputs": [],
   "source": [
    "class Queries(BaseModel):\n",
    "    queries: List[str]"
   ]
  },
  {
   "cell_type": "markdown",
   "id": "f5164654",
   "metadata": {},
   "source": [
    "- And an object to conduct a web search"
   ]
  },
  {
   "cell_type": "code",
   "execution_count": null,
   "id": "17ad4f4e",
   "metadata": {},
   "outputs": [],
   "source": []
  },
  {
   "cell_type": "code",
   "execution_count": 12,
   "id": "0722c3d4-4cbf-43bf-81b0-50f634c4ce61",
   "metadata": {
    "height": 64
   },
   "outputs": [],
   "source": [
    "tavily = TavilyClient(api_key=os.environ[\"TAVILY_API_KEY\"])"
   ]
  },
  {
   "cell_type": "markdown",
   "id": "7bf29d64",
   "metadata": {},
   "source": [
    "#### Functions defining what how each node will update the graph state"
   ]
  },
  {
   "cell_type": "code",
   "execution_count": 13,
   "id": "6b2f82fe-3ec4-4917-be51-9fb10d1317fa",
   "metadata": {
    "height": 132
   },
   "outputs": [],
   "source": [
    "def plan_node(state: AgentState):\n",
    "    messages = [\n",
    "        SystemMessage(content=PLAN_PROMPT), \n",
    "        HumanMessage(content=state['task'])\n",
    "    ]\n",
    "    response = model.invoke(messages)\n",
    "    return {\"plan\": response.content}"
   ]
  },
  {
   "cell_type": "code",
   "execution_count": 14,
   "id": "ee0fe1c7-77e2-499c-a2f9-1f739bb6ddf0",
   "metadata": {
    "height": 200
   },
   "outputs": [],
   "source": [
    "def research_plan_node(state: AgentState):\n",
    "    queries = model.with_structured_output(Queries).invoke([\n",
    "        SystemMessage(content=RESEARCH_PLAN_PROMPT),\n",
    "        HumanMessage(content=state['task'])\n",
    "    ])\n",
    "    print(state)\n",
    "    content = state['content'] if 'content' in state else []\n",
    "    for q in queries.queries:\n",
    "        response = tavily.search(query=q, max_results=2)\n",
    "        for r in response['results']:\n",
    "            content.append(r['content'])\n",
    "    return {\"content\": content}"
   ]
  },
  {
   "cell_type": "code",
   "execution_count": 15,
   "id": "98f303b1-a4d0-408c-8cc0-515ff980717f",
   "metadata": {
    "height": 300
   },
   "outputs": [],
   "source": [
    "def generation_node(state: AgentState):\n",
    "    content = \"\\n\\n\".join(state['content'] or [])\n",
    "    user_message = HumanMessage(\n",
    "        content=f\"{state['task']}\\n\\nHere is my plan:\\n\\n{state['plan']}\")\n",
    "    messages = [\n",
    "        SystemMessage(\n",
    "            content=WRITER_PROMPT.format(content=content)\n",
    "        ),\n",
    "        user_message\n",
    "        ]\n",
    "    response = model.invoke(messages)\n",
    "    return {\n",
    "        \"draft\": response.content, \n",
    "        \"revision_number\": state.get(\"revision_number\", 1) + 1\n",
    "    }\n"
   ]
  },
  {
   "cell_type": "code",
   "execution_count": 16,
   "id": "bf4dcb93-6298-4cfd-b3ce-61dfac7fb35f",
   "metadata": {
    "height": 132
   },
   "outputs": [],
   "source": [
    "def reflection_node(state: AgentState):\n",
    "    messages = [\n",
    "        SystemMessage(content=REFLECTION_PROMPT), \n",
    "        HumanMessage(content=state['draft'])\n",
    "    ]\n",
    "    response = model.invoke(messages)\n",
    "    return {\"critique\": response.content}"
   ]
  },
  {
   "cell_type": "code",
   "execution_count": 17,
   "id": "932883a4-c722-42bb-aec0-b4f41c5c81a4",
   "metadata": {
    "height": 200
   },
   "outputs": [],
   "source": [
    "def research_critique_node(state: AgentState):\n",
    "    queries = model.with_structured_output(Queries).invoke([\n",
    "        SystemMessage(content=RESEARCH_CRITIQUE_PROMPT),\n",
    "        HumanMessage(content=state['critique'])\n",
    "    ])\n",
    "    content = state['content'] or []\n",
    "    for q in queries.queries:\n",
    "        response = tavily.search(query=q, max_results=2)\n",
    "        for r in response['results']:\n",
    "            content.append(r['content'])\n",
    "    return {\"content\": content}"
   ]
  },
  {
   "cell_type": "markdown",
   "id": "5d29bded",
   "metadata": {},
   "source": [
    "- this node defines where to go next on the fly. It will be associated to a 'conditional edge'"
   ]
  },
  {
   "cell_type": "code",
   "execution_count": 18,
   "id": "ff362f49-dcf1-4ea1-a86c-e516e9ab897d",
   "metadata": {
    "height": 81
   },
   "outputs": [],
   "source": [
    "def should_continue(state):\n",
    "    if state[\"revision_number\"] > state[\"max_revisions\"]:\n",
    "        return END\n",
    "    return \"reflect\""
   ]
  },
  {
   "cell_type": "markdown",
   "id": "4afe99cc",
   "metadata": {},
   "source": [
    "### Gather the nodes in a graph"
   ]
  },
  {
   "cell_type": "code",
   "execution_count": 19,
   "id": "a7e15a20-83d7-434c-8551-bce8dcc32be0",
   "metadata": {
    "height": 30
   },
   "outputs": [
    {
     "data": {
      "text/plain": [
       "<langgraph.graph.state.StateGraph at 0x7fac051dd7d0>"
      ]
     },
     "execution_count": 19,
     "metadata": {},
     "output_type": "execute_result"
    }
   ],
   "source": [
    "builder = StateGraph(AgentState)\n",
    "# \"planner\" is the name of the node, plan_node is the function that will be called on activation\n",
    "builder.add_node(\"planner\", plan_node)\n",
    "builder.add_node(\"generate\", generation_node)\n",
    "builder.add_node(\"reflect\", reflection_node)\n",
    "builder.add_node(\"research_plan\", research_plan_node)\n",
    "builder.add_node(\"research_critique\", research_critique_node)\n"
   ]
  },
  {
   "cell_type": "markdown",
   "id": "e5c214c6",
   "metadata": {},
   "source": [
    "### Define the flow in the grap\n",
    "- entry point, exit point and edges"
   ]
  },
  {
   "cell_type": "markdown",
   "id": "aff6867e",
   "metadata": {},
   "source": [
    "- entry point"
   ]
  },
  {
   "cell_type": "code",
   "execution_count": 20,
   "id": "bc33c7e1",
   "metadata": {},
   "outputs": [
    {
     "data": {
      "text/plain": [
       "<langgraph.graph.state.StateGraph at 0x7fac051dd7d0>"
      ]
     },
     "execution_count": 20,
     "metadata": {},
     "output_type": "execute_result"
    }
   ],
   "source": [
    "# this is the node where we start\n",
    "builder.set_entry_point(\"planner\")"
   ]
  },
  {
   "cell_type": "markdown",
   "id": "61c869d7",
   "metadata": {},
   "source": [
    "- conditional edge(s)"
   ]
  },
  {
   "cell_type": "code",
   "execution_count": 21,
   "id": "76e93cce-6eab-4c7c-ac64-e9993fdb30d6",
   "metadata": {
    "height": 115
   },
   "outputs": [
    {
     "data": {
      "text/plain": [
       "<langgraph.graph.state.StateGraph at 0x7fac051dd7d0>"
      ]
     },
     "execution_count": 21,
     "metadata": {},
     "output_type": "execute_result"
    }
   ],
   "source": [
    "builder.add_conditional_edges(\n",
    "    \"generate\", \n",
    "    should_continue, \n",
    "    {END: END, \"reflect\": \"reflect\"}\n",
    ")\n"
   ]
  },
  {
   "cell_type": "markdown",
   "id": "a007827c",
   "metadata": {},
   "source": [
    "- simple direct edges"
   ]
  },
  {
   "cell_type": "code",
   "execution_count": 22,
   "id": "fd2d0990-a932-423f-9ff3-5cada58c5f32",
   "metadata": {
    "height": 98
   },
   "outputs": [
    {
     "data": {
      "text/plain": [
       "<langgraph.graph.state.StateGraph at 0x7fac051dd7d0>"
      ]
     },
     "execution_count": 22,
     "metadata": {},
     "output_type": "execute_result"
    }
   ],
   "source": [
    "builder.add_edge(\"planner\", \"research_plan\")\n",
    "builder.add_edge(\"research_plan\", \"generate\")\n",
    "\n",
    "builder.add_edge(\"reflect\", \"research_critique\")\n",
    "builder.add_edge(\"research_critique\", \"generate\")"
   ]
  },
  {
   "cell_type": "markdown",
   "id": "e6d80fcb",
   "metadata": {},
   "source": [
    "### Adding memory to the graph"
   ]
  },
  {
   "cell_type": "markdown",
   "id": "a1fc4df2",
   "metadata": {},
   "source": [
    "- a database-like object to store the successive states of the graph"
   ]
  },
  {
   "cell_type": "code",
   "execution_count": 23,
   "id": "b65017e9",
   "metadata": {},
   "outputs": [],
   "source": [
    "memory = SqliteSaver.from_conn_string(\":memory:\")"
   ]
  },
  {
   "cell_type": "markdown",
   "id": "f754d458",
   "metadata": {},
   "source": [
    "### Put it all together"
   ]
  },
  {
   "cell_type": "code",
   "execution_count": 24,
   "id": "11dbba10",
   "metadata": {},
   "outputs": [],
   "source": [
    "with SqliteSaver.from_conn_string(\":memory:\") as checkpointer:\n",
    "    graph = builder.compile(checkpointer=checkpointer)"
   ]
  },
  {
   "cell_type": "markdown",
   "id": "3dfc93ba",
   "metadata": {},
   "source": [
    "- the graph is ready"
   ]
  },
  {
   "cell_type": "code",
   "execution_count": 25,
   "id": "4871f644-b131-4065-b7ce-b82c20a41f11",
   "metadata": {
    "height": 64
   },
   "outputs": [
    {
     "data": {
      "image/png": "[encoded data removed]",
      "text/plain": [
       "<IPython.core.display.Image object>"
      ]
     },
     "execution_count": 25,
     "metadata": {},
     "output_type": "execute_result"
    }
   ],
   "source": [
    "from IPython.display import Image\n",
    "\n",
    "Image(graph.get_graph().draw_png())"
   ]
  },
  {
   "cell_type": "markdown",
   "id": "30d9fdf2",
   "metadata": {},
   "source": [
    "## Running the graph"
   ]
  },
  {
   "cell_type": "markdown",
   "id": "324e3dd2",
   "metadata": {},
   "source": [
    "- and print the messages generated by the nodes"
   ]
  },
  {
   "cell_type": "code",
   "execution_count": 48,
   "id": "98f3be1d-cc4c-41fa-9863-3e386e88e305",
   "metadata": {
    "height": 132
   },
   "outputs": [
    {
     "name": "stdout",
     "output_type": "stream",
     "text": [
      "planner:\n",
      "plan\n",
      "I. Introduction\n",
      "    A. Brief overview of the 2024 presidential election\n",
      "    B. Thesis statement: Analyzing the factors that contributed to Donald Trump's victory in November 2024\n",
      "\n",
      "II. Political Landscape Leading to the 2024 Election\n",
      "    A. Overview of the political climate in the United States\n",
      "    B. Key issues and events leading up to the election\n",
      "    C. Trump's political career and previous presidency\n",
      "\n",
      "III. Factors Contributing to Trump's Victory\n",
      "    A. Appeal to his base and loyal supporters\n",
      "    B. Campaign strategies and messaging\n",
      "    C. Economic policies and promises\n",
      "    D. Handling of key issues such as national security, immigration, and healthcare\n",
      "\n",
      "IV. Opposition and Challenges Faced by Trump\n",
      "    A. Criticisms and controversies surrounding Trump\n",
      "    B. Democratic candidate and their campaign\n",
      "    C. External factors influencing the election outcome\n",
      "\n",
      "V. Analysis of the Election Results\n",
      "    A. Key demographics and voting patterns\n",
      "    B. Swing states and their impact on the outcome\n",
      "    C. Electoral College vs. popular vote\n",
      "\n",
      "VI. Conclusion\n",
      "    A. Recap of the factors that led to Trump's victory\n",
      "    B. Reflection on the implications of his win for the country\n",
      "    C. Final thoughts on the future of American politics and the impact of the 2024 election\n",
      "====================\n",
      "{'task': 'Write an essay on why Donald Trump won in november 2024', 'plan': \"I. Introduction\\n    A. Brief overview of the 2024 presidential election\\n    B. Thesis statement: Analyzing the factors that contributed to Donald Trump's victory in November 2024\\n\\nII. Political Landscape Leading to the 2024 Election\\n    A. Overview of the political climate in the United States\\n    B. Key issues and events leading up to the election\\n    C. Trump's political career and previous presidency\\n\\nIII. Factors Contributing to Trump's Victory\\n    A. Appeal to his base and loyal supporters\\n    B. Campaign strategies and messaging\\n    C. Economic policies and promises\\n    D. Handling of key issues such as national security, immigration, and healthcare\\n\\nIV. Opposition and Challenges Faced by Trump\\n    A. Criticisms and controversies surrounding Trump\\n    B. Democratic candidate and their campaign\\n    C. External factors influencing the election outcome\\n\\nV. Analysis of the Election Results\\n    A. Key demographics and voting patterns\\n    B. Swing states and their impact on the outcome\\n    C. Electoral College vs. popular vote\\n\\nVI. Conclusion\\n    A. Recap of the factors that led to Trump's victory\\n    B. Reflection on the implications of his win for the country\\n    C. Final thoughts on the future of American politics and the impact of the 2024 election\", 'revision_number': 1, 'max_revisions': 1}\n",
      "research_plan:\n",
      "content\n",
      "['Why Trump won the 2024 election — 9 takeaways : NPR Why Trump won the 2024 election — 9 takeaways Trump not only won in the Electoral College, but he won so big that he expanded his coalition with historic demographic shifts. But while Harris won a majority of women — including winning moms while Trump won dads — she only won 53% of women, down from Biden’s 57%. Things might have turned out differently for Harris if she wasn’t tied to the Biden administration, and Trump — or any other Republican — had been president while voters’ views of the economy were this bleak. Factoring polling error from past elections, that pointed to the possibility of exactly what happened — a big Trump Electoral College win.', \"11/06/2024 06:07 AM EST. Donald Trump didn't just complete a once-unlikely political comeback — he won a resounding victory despite legal jeopardy, the unpopular end of federal abortion rights\", 'Donald Trump wins 2024 election: the global trend behind his victory | Vox President-elect Donald Trump’s victory in the 2024 election was powered by a remarkably consistent nationwide trend of voters turning against the Democratic ticket. Why you can’t understand Trump’s victory without the global trend But we can be fairly confident, given reams of polling data showing Americans were dissatisfied with the country’s direction, that a desire for a change in leadership played at least some role in Trump’s return to power — part of a global trend away from stability and toward upheaval, however chaotic or even dangerous it will prove to be.', 'Why Trump won the 2024 election — 9 takeaways : NPR Why Trump won the 2024 election — 9 takeaways Trump not only won in the Electoral College, but he won so big that he expanded his coalition with historic demographic shifts. But while Harris won a majority of women — including winning moms while Trump won dads — she only won 53% of women, down from Biden’s 57%. Things might have turned out differently for Harris if she wasn’t tied to the Biden administration, and Trump — or any other Republican — had been president while voters’ views of the economy were this bleak. Factoring polling error from past elections, that pointed to the possibility of exactly what happened — a big Trump Electoral College win.', 'Why Trump won the 2024 election — 9 takeaways : NPR Why Trump won the 2024 election — 9 takeaways Trump not only won in the Electoral College, but he won so big that he expanded his coalition with historic demographic shifts. But while Harris won a majority of women — including winning moms while Trump won dads — she only won 53% of women, down from Biden’s 57%. Things might have turned out differently for Harris if she wasn’t tied to the Biden administration, and Trump — or any other Republican — had been president while voters’ views of the economy were this bleak. Factoring polling error from past elections, that pointed to the possibility of exactly what happened — a big Trump Electoral College win.', 'Surrounded by family members and supporters, Donald Trump makes his acceptance speech at his Election Night Watch Party at the Palm Beach County Convention Center after being elected the 47th President of the United States November 5, 2024. Campaigns & Elections Congress Political Parties Presidency Trump won a personal victory in the 2024 election, sweeping all the swing states, improving his vote share just about everywhere, and—unlike his 2016 victory—garnering an outright majority of the popular vote. Second: The Trump campaign decided that Harris’ stance on transgender issues was the Willie Horton of 2024 and invested heavily in negative advertising that dominated the airwaves throughout the South.1 Anecdotal evidence suggests that this campaign helped weaken Harris’ effort to portray herself as a common-sense center-left candidate rather than an emissary from San Francisco.']\n",
      "====================\n",
      "generate:\n",
      "draft\n",
      "In November 2024, Donald Trump secured a surprising victory in the presidential election, marking a significant political comeback. This essay will delve into the various factors that contributed to Trump's win, analyzing the political landscape, campaign strategies, key issues, opposition faced, election results, and the implications of his victory for the United States.\n",
      "\n",
      "The political climate leading up to the 2024 election was tumultuous, with a divided nation grappling with key issues such as national security, immigration, and healthcare. Donald Trump, a controversial figure with a previous presidency, capitalized on his base and loyal supporters, leveraging his campaign strategies and messaging to appeal to a wide range of voters. His economic policies and promises resonated with many Americans, promising a change in leadership amidst dissatisfaction with the country's direction.\n",
      "\n",
      "Despite facing criticisms and controversies, Trump's campaign successfully navigated through challenges, particularly by highlighting the Democratic candidate's weaknesses and investing heavily in negative advertising. The handling of key issues, such as transgender rights, played a crucial role in shaping public opinion and weakening the opposition's stance.\n",
      "\n",
      "The election results revealed a significant shift in demographics and voting patterns, with Trump expanding his coalition through historic demographic shifts. Winning in the Electoral College by a large margin, Trump's victory was further solidified by his success in swing states and garnering a majority of the popular vote, unlike his previous win in 2016.\n",
      "\n",
      "In conclusion, Donald Trump's win in November 2024 signifies a turning point in American politics, reflecting a desire for change and a shift towards upheaval in the global trend. The implications of his victory are far-reaching, impacting the future trajectory of the country and raising questions about the stability and direction of American politics in the years to come. The 2024 election serves as a pivotal moment in history, shaping the course of the nation and its leadership.\n",
      "revision_number\n",
      "2\n",
      "====================\n"
     ]
    }
   ],
   "source": [
    "with SqliteSaver.from_conn_string(\":memory:\") as checkpointer:\n",
    "    graph = builder.compile(checkpointer=None)\n",
    "    config = {\"configurable\": {\"thread_id\": \"1\"}}\n",
    "    for u in graph.stream({\n",
    "        #'task': \"what is the difference between langchain and langsmith\",\n",
    "        'task': \"Write an essay on why Donald Trump won in november 2024\",\n",
    "        \"max_revisions\": 1,\n",
    "        \"revision_number\": 1,\n",
    "    }, config = config):\n",
    "        for (n,s) in u.items():\n",
    "            print(f\"{n}:\")\n",
    "            for k,v in s.items():\n",
    "                print(k)\n",
    "                print(v)\n",
    "            print(\"=\"*20)"
   ]
  },
  {
   "cell_type": "code",
   "execution_count": 55,
   "id": "df759628",
   "metadata": {},
   "outputs": [
    {
     "name": "stdout",
     "output_type": "stream",
     "text": [
      "generate\n",
      "draft:\n",
      "In November 2024, Donald Trump secured a surprising victory in the presidential election, marking a significant political comeback. This essay will delve into the various factors that contributed to Trump's win, analyzing the political landscape, campaign strategies, key issues, opposition faced, election results, and the implications of his victory for the United States.\n",
      "\n",
      "The political climate leading up to the 2024 election was tumultuous, with a divided nation grappling with key issues such as national security, immigration, and healthcare. Donald Trump, a controversial figure with a previous presidency, capitalized on his base and loyal supporters, leveraging his campaign strategies and messaging to appeal to a wide range of voters. His economic policies and promises resonated with many Americans, promising a change in leadership amidst dissatisfaction with the country's direction.\n",
      "\n",
      "Despite facing criticisms and controversies, Trump's campaign successfully navigated through challenges, particularly by highlighting the Democratic candidate's weaknesses and investing heavily in negative advertising. The handling of key issues, such as transgender rights, played a crucial role in shaping public opinion and weakening the opposition's stance.\n",
      "\n",
      "The election results revealed a significant shift in demographics and voting patterns, with Trump expanding his coalition through historic demographic shifts. Winning in the Electoral College by a large margin, Trump's victory was further solidified by his success in swing states and garnering a majority of the popular vote, unlike his previous win in 2016.\n",
      "\n",
      "In conclusion, Donald Trump's win in November 2024 signifies a turning point in American politics, reflecting a desire for change and a shift towards upheaval in the global trend. The implications of his victory are far-reaching, impacting the future trajectory of the country and raising questions about the stability and direction of American politics in the years to come. The 2024 election serves as a pivotal moment in history, shaping the course of the nation and its leadership.\n",
      "revision_number:\n",
      "2\n"
     ]
    }
   ],
   "source": [
    "# u containe the last update to the graph, issues \n",
    "for n,u in u.items():\n",
    "    print(k)\n",
    "    for k,v in u.items():\n",
    "        print(f\"{k}:\")\n",
    "        print(v)\n"
   ]
  },
  {
   "cell_type": "code",
   "execution_count": 51,
   "id": "9e160145",
   "metadata": {},
   "outputs": [
    {
     "name": "stdout",
     "output_type": "stream",
     "text": [
      "[('generate', {'draft': \"In November 2024, Donald Trump secured a surprising victory in the presidential election, marking a significant political comeback. This essay will delve into the various factors that contributed to Trump's win, analyzing the political landscape, campaign strategies, key issues, opposition faced, election results, and the implications of his victory for the United States.\\n\\nThe political climate leading up to the 2024 election was tumultuous, with a divided nation grappling with key issues such as national security, immigration, and healthcare. Donald Trump, a controversial figure with a previous presidency, capitalized on his base and loyal supporters, leveraging his campaign strategies and messaging to appeal to a wide range of voters. His economic policies and promises resonated with many Americans, promising a change in leadership amidst dissatisfaction with the country's direction.\\n\\nDespite facing criticisms and controversies, Trump's campaign successfully navigated through challenges, particularly by highlighting the Democratic candidate's weaknesses and investing heavily in negative advertising. The handling of key issues, such as transgender rights, played a crucial role in shaping public opinion and weakening the opposition's stance.\\n\\nThe election results revealed a significant shift in demographics and voting patterns, with Trump expanding his coalition through historic demographic shifts. Winning in the Electoral College by a large margin, Trump's victory was further solidified by his success in swing states and garnering a majority of the popular vote, unlike his previous win in 2016.\\n\\nIn conclusion, Donald Trump's win in November 2024 signifies a turning point in American politics, reflecting a desire for change and a shift towards upheaval in the global trend. The implications of his victory are far-reaching, impacting the future trajectory of the country and raising questions about the stability and direction of American politics in the years to come. The 2024 election serves as a pivotal moment in history, shaping the course of the nation and its leadership.\", 'revision_number': 2})]\n"
     ]
    }
   ],
   "source": [
    "print(list(u.items()))"
   ]
  },
  {
   "cell_type": "markdown",
   "id": "4d1664b5-75e0-46b7-9c2b-4ac9171f4597",
   "metadata": {},
   "source": [
    "## See a production-like interface"
   ]
  },
  {
   "cell_type": "markdown",
   "id": "5c74a6c2",
   "metadata": {},
   "source": [
    "- easier to launch from [this deaplearning.ai page](https://learn.deeplearning.ai/courses/ai-agents-in-langgraph/lesson/7/essay-writer)\n",
    "- e.g. https://7faa06b9d71c545102.gradio.live"
   ]
  },
  {
   "cell_type": "code",
   "execution_count": 6,
   "id": "6e0ae270-3ec3-484a-b729-df7d2b7b0f76",
   "metadata": {
    "height": 81
   },
   "outputs": [
    {
     "name": "stdout",
     "output_type": "stream",
     "text": [
      "* Running on local URL:  http://0.0.0.0:7861\n",
      "* Running on public URL: https://239f56b47ef930df21.gradio.live\n",
      "\n",
      "This share link expires in 72 hours. For free permanent hosting and GPU upgrades, run `gradio deploy` from the terminal in the working directory to deploy to Hugging Face Spaces (https://huggingface.co/spaces)\n"
     ]
    },
    {
     "data": {
      "text/html": [
       "<div><iframe src=\"https://239f56b47ef930df21.gradio.live\" width=\"100%\" height=\"500\" allow=\"autoplay; camera; microphone; clipboard-read; clipboard-write;\" frameborder=\"0\" allowfullscreen></iframe></div>"
      ],
      "text/plain": [
       "<IPython.core.display.HTML object>"
      ]
     },
     "metadata": {},
     "output_type": "display_data"
    }
   ],
   "source": [
    "import warnings\n",
    "warnings.filterwarnings(\"ignore\")\n",
    "\n",
    "from essay_writer_helper import ewriter, writer_gui\n",
    "MultiAgent = ewriter()\n",
    "app = writer_gui(MultiAgent.graph)\n",
    "app.launch(server_port=None, share =True)"
   ]
  }
 ],
 "metadata": {
  "kernelspec": {
   "display_name": "langchain",
   "language": "python",
   "name": "python3"
  },
  "language_info": {
   "codemirror_mode": {
    "name": "ipython",
    "version": 3
   },
   "file_extension": ".py",
   "mimetype": "text/x-python",
   "name": "python",
   "nbconvert_exporter": "python",
   "pygments_lexer": "ipython3",
   "version": "3.11.9"
  }
 },
 "nbformat": 4,
 "nbformat_minor": 5
}
